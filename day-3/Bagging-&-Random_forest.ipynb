{
 "cells": [
  {
   "cell_type": "code",
   "execution_count": null,
   "id": "78d13caa-826d-4744-be3b-76809eddd1ee",
   "metadata": {},
   "outputs": [],
   "source": [
    "from sklearn import datasets\n",
    "iris = datasets.load_iris()"
   ]
  },
  {
   "cell_type": "code",
   "execution_count": null,
   "id": "1626f038-8d64-4f06-87cd-b9e81f4375ed",
   "metadata": {},
   "outputs": [],
   "source": [
    "print(iris.feature_names)"
   ]
  },
  {
   "cell_type": "code",
   "execution_count": null,
   "id": "6b7114c0-7d35-41bd-9ceb-695640892817",
   "metadata": {},
   "outputs": [],
   "source": [
    "print(iris.target_names)"
   ]
  },
  {
   "cell_type": "code",
   "execution_count": null,
   "id": "e8461257-adf5-436b-bf55-8470c798795b",
   "metadata": {},
   "outputs": [],
   "source": [
    "print(iris.data[:5])"
   ]
  },
  {
   "cell_type": "code",
   "execution_count": null,
   "id": "5d719a40-8507-4fb3-894b-75996144ea10",
   "metadata": {},
   "outputs": [],
   "source": [
    "print(iris.target)"
   ]
  },
  {
   "cell_type": "code",
   "execution_count": null,
   "id": "12ddb959-af94-4d3e-9bf9-7d3c43d672bf",
   "metadata": {},
   "outputs": [],
   "source": [
    "type(iris.data)"
   ]
  },
  {
   "cell_type": "code",
   "execution_count": null,
   "id": "eca3ff83-890d-48d4-ac0b-3a67c24e1ede",
   "metadata": {},
   "outputs": [],
   "source": [
    "type(iris.target)"
   ]
  },
  {
   "cell_type": "code",
   "execution_count": null,
   "id": "e094b2d4-5229-437d-9d45-f7d4d85e5e66",
   "metadata": {},
   "outputs": [],
   "source": [
    "import pandas as pd\n",
    "\n",
    "data = pd.DataFrame(\n",
    "    {\n",
    "        'sepal length (cm)': iris.data[:,0],\n",
    "        'sepal width (cm)' : iris.data[:,1],\n",
    "        'petal length (cm)': iris.data[:,2],\n",
    "        'petal width (cm)' : iris.data[:,3],\n",
    "        'species' : iris.target\n",
    "    }\n",
    ")"
   ]
  },
  {
   "cell_type": "code",
   "execution_count": null,
   "id": "92025176-cf76-4891-a608-c42de579bf19",
   "metadata": {},
   "outputs": [],
   "source": [
    "data.head()"
   ]
  },
  {
   "cell_type": "code",
   "execution_count": null,
   "id": "b7284c2c-97bc-4572-877e-82e6c2d21456",
   "metadata": {},
   "outputs": [],
   "source": [
    "data.shape"
   ]
  },
  {
   "cell_type": "code",
   "execution_count": null,
   "id": "06220d15-8d13-4557-a3a7-50071efd8f45",
   "metadata": {},
   "outputs": [],
   "source": [
    "X = data[['sepal length (cm)',\t'sepal width (cm)',\t'petal length (cm)', 'petal width (cm)']]\n",
    "y = data['species']"
   ]
  },
  {
   "cell_type": "code",
   "execution_count": null,
   "id": "3cd4883b-34d4-41f8-86b3-7761ffae8855",
   "metadata": {},
   "outputs": [],
   "source": [
    "from sklearn.model_selection import train_test_split\n",
    "X_train,X_test,y_train,y_test = train_test_split(X,y,test_size=0.3,random_state=42)"
   ]
  },
  {
   "cell_type": "code",
   "execution_count": null,
   "id": "1dc8f27a-9cf8-4287-a69a-fac7ada5dfc3",
   "metadata": {},
   "outputs": [],
   "source": [
    "X_train.shape"
   ]
  },
  {
   "cell_type": "code",
   "execution_count": null,
   "id": "b607ea22-734a-4d20-b6a6-3f1166626abd",
   "metadata": {},
   "outputs": [],
   "source": [
    "X_test.shape"
   ]
  },
  {
   "cell_type": "code",
   "execution_count": null,
   "id": "dc3e65c4-a64a-497c-badf-a784901e303e",
   "metadata": {},
   "outputs": [],
   "source": [
    "from sklearn.ensemble import RandomForestClassifier\n",
    "\n",
    "rfc = RandomForestClassifier(n_estimators=100)  # n_estimators=100 means the decision tree make 100 random tree"
   ]
  },
  {
   "cell_type": "code",
   "execution_count": null,
   "id": "c4ad16a5-68f8-4432-8d65-32e227dc744a",
   "metadata": {},
   "outputs": [],
   "source": [
    "rfc.fit(X_train,y_train)"
   ]
  },
  {
   "cell_type": "code",
   "execution_count": null,
   "id": "353ce19d-4e23-4b8f-a1dd-b45655dcf5d9",
   "metadata": {},
   "outputs": [],
   "source": [
    "y_pred = rfc.predict(X_test)"
   ]
  },
  {
   "cell_type": "code",
   "execution_count": null,
   "id": "7cc801ca-1894-436a-b7c9-b569aa6a9db9",
   "metadata": {},
   "outputs": [],
   "source": [
    "from sklearn.metrics import confusion_matrix,accuracy_score\n",
    "confusion_matrix(y_test,y_pred)"
   ]
  },
  {
   "cell_type": "code",
   "execution_count": null,
   "id": "527999c5-2d09-4705-9b39-84ff329cbfa6",
   "metadata": {},
   "outputs": [],
   "source": [
    "accuracy_score(y_test,y_pred)"
   ]
  },
  {
   "cell_type": "code",
   "execution_count": null,
   "id": "db0ad587-2159-4e2b-a523-a24f34ed7d85",
   "metadata": {},
   "outputs": [],
   "source": [
    "#Making predictions for a single item\n",
    "rfc.predict([[3.0,5.4,4.8,2.0]])"
   ]
  },
  {
   "cell_type": "code",
   "execution_count": null,
   "id": "536396e8-a5ad-4cbf-a585-a3bc8deb2690",
   "metadata": {},
   "outputs": [],
   "source": []
  },
  {
   "cell_type": "code",
   "execution_count": null,
   "id": "66ee2f9c-72c6-47a1-bd50-3f9877f2b6ec",
   "metadata": {},
   "outputs": [],
   "source": [
    "#Finding important features\n",
    "import pandas as pd\n",
    "feature_imp = pd.Series(rfc.feature_importances_,index=iris.feature_names).sort_values(ascending=False)\n",
    "feature_imp"
   ]
  },
  {
   "cell_type": "code",
   "execution_count": null,
   "id": "b14375b2-2816-4348-a9da-55a6a75e2062",
   "metadata": {},
   "outputs": [],
   "source": [
    "import matplotlib.pyplot as plt\n",
    "import seaborn as sns"
   ]
  },
  {
   "cell_type": "code",
   "execution_count": null,
   "id": "e0437992-5e7a-4163-8a43-5cae1b51c462",
   "metadata": {},
   "outputs": [],
   "source": [
    "sns.barplot(x=feature_imp,y=feature_imp.index,palette='Set2')\n",
    "plt.xlabel(\"Feature Importance Score\")\n",
    "plt.ylabel(\"Features\")\n",
    "plt.title(\"Visualizing Important Features\")\n",
    "plt.show()"
   ]
  },
  {
   "cell_type": "code",
   "execution_count": null,
   "id": "ef0b2601-51f4-4b87-a56d-6f62a064eb9c",
   "metadata": {},
   "outputs": [],
   "source": [
    "x = data[['petal length (cm)', 'petal width (cm)']]\n",
    "Y = data['species']"
   ]
  },
  {
   "cell_type": "code",
   "execution_count": null,
   "id": "c0067c1c-176f-4333-bd0a-f88577f5a946",
   "metadata": {},
   "outputs": [],
   "source": [
    "X_train1,X_test1,y_train1,y_test1 = train_test_split(x,Y,test_size=0.3,random_state=5)"
   ]
  },
  {
   "cell_type": "code",
   "execution_count": null,
   "id": "12fe9f75-72ca-4198-a4f7-c7edcaa5c781",
   "metadata": {},
   "outputs": [],
   "source": [
    "rfc1 = RandomForestClassifier(n_estimators=100)"
   ]
  },
  {
   "cell_type": "code",
   "execution_count": null,
   "id": "789266f0-888a-4daa-84f7-4cb7fd2f82a6",
   "metadata": {},
   "outputs": [],
   "source": [
    "rfc1.fit(X_train1,y_train1)"
   ]
  },
  {
   "cell_type": "code",
   "execution_count": null,
   "id": "ffbd0d06-4dd8-43ba-9c5b-c3c1a69a21d0",
   "metadata": {},
   "outputs": [],
   "source": [
    "y_pred1 = rfc1.predict(X_test1)"
   ]
  },
  {
   "cell_type": "code",
   "execution_count": null,
   "id": "2fc17986-588f-4786-a5a7-cfdf4365e76d",
   "metadata": {},
   "outputs": [],
   "source": [
    "confusion_matrix(y_test1,y_pred1)"
   ]
  },
  {
   "cell_type": "code",
   "execution_count": null,
   "id": "5b5d177f-c34b-4577-b85f-8696bab48cef",
   "metadata": {},
   "outputs": [],
   "source": [
    "accuracy_score(y_test1,y_pred1)"
   ]
  },
  {
   "cell_type": "code",
   "execution_count": null,
   "id": "4d555ade-d583-4655-ab31-d6405d05e9b0",
   "metadata": {},
   "outputs": [],
   "source": []
  }
 ],
 "metadata": {
  "kernelspec": {
   "display_name": "Python 3 (ipykernel)",
   "language": "python",
   "name": "python3"
  },
  "language_info": {
   "codemirror_mode": {
    "name": "ipython",
    "version": 3
   },
   "file_extension": ".py",
   "mimetype": "text/x-python",
   "name": "python",
   "nbconvert_exporter": "python",
   "pygments_lexer": "ipython3",
   "version": "3.12.1"
  }
 },
 "nbformat": 4,
 "nbformat_minor": 5
}
