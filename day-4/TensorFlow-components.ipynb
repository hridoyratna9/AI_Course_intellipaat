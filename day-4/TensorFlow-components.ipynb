{
 "cells": [
  {
   "cell_type": "code",
   "execution_count": 3,
   "id": "30114eec-4d1a-4f03-88dc-b1a34ffb8947",
   "metadata": {},
   "outputs": [],
   "source": [
    "import tensorflow as tf"
   ]
  },
  {
   "cell_type": "code",
   "execution_count": 5,
   "id": "fe5f7971-12e9-4c89-9a96-6cf22fc55bf1",
   "metadata": {},
   "outputs": [
    {
     "name": "stdout",
     "output_type": "stream",
     "text": [
      "2.20.0\n",
      "tf.Tensor(b'Hello, TensorFlow!', shape=(), dtype=string)\n"
     ]
    }
   ],
   "source": [
    "# Verify TensorFlow version\n",
    "print(tf.__version__)\n",
    "\n",
    "# Example: Create a simple TensorFlow constant\n",
    "hello_tensor = tf.constant(\"Hello, TensorFlow!\")\n",
    "print(hello_tensor)"
   ]
  },
  {
   "cell_type": "code",
   "execution_count": 7,
   "id": "5ba5899d-74eb-4c16-b571-5ac8fb4049dd",
   "metadata": {},
   "outputs": [],
   "source": [
    "con1 =tf.constant(10)\n",
    "con2 = tf.constant(20)\n",
    "con3 = tf.constant(False)"
   ]
  },
  {
   "cell_type": "code",
   "execution_count": 8,
   "id": "75e19bf0-49e4-48fe-8a4d-fcd67db7ebb4",
   "metadata": {},
   "outputs": [
    {
     "name": "stdout",
     "output_type": "stream",
     "text": [
      "tf.Tensor(10, shape=(), dtype=int32) tf.Tensor(20, shape=(), dtype=int32) tf.Tensor(False, shape=(), dtype=bool)\n"
     ]
    }
   ],
   "source": [
    "print(con1,con2,con3)"
   ]
  },
  {
   "cell_type": "code",
   "execution_count": 10,
   "id": "110b8336-57ee-431a-86a7-32044702da94",
   "metadata": {},
   "outputs": [
    {
     "name": "stdout",
     "output_type": "stream",
     "text": [
      "WARNING:tensorflow:From C:\\Users\\s\\AppData\\Local\\Temp\\ipykernel_9064\\2660753898.py:2: The name tf.disable_v2_behavior is deprecated. Please use tf.compat.v1.disable_v2_behavior instead.\n",
      "\n",
      "WARNING:tensorflow:From C:\\Users\\s\\AppData\\Local\\Programs\\Python\\Python312\\Lib\\site-packages\\tensorflow\\python\\compat\\v2_compat.py:98: disable_resource_variables (from tensorflow.python.ops.resource_variables_toggle) is deprecated and will be removed in a future version.\n",
      "Instructions for updating:\n",
      "non-resource variables are not supported in the long term\n"
     ]
    }
   ],
   "source": []
  },
  {
   "cell_type": "code",
   "execution_count": 12,
   "id": "21f77e40-cabe-4d80-8560-93cb7f3202f3",
   "metadata": {},
   "outputs": [
    {
     "name": "stdout",
     "output_type": "stream",
     "text": [
      "[np.int32(5), np.int32(10), np.int32(15)]\n"
     ]
    }
   ],
   "source": [
    "import tensorflow.compat.v1 as tf\n",
    "tf.disable_v2_behavior()\n",
    "\n",
    "con1 = tf.constant(5)\n",
    "con2 = tf.constant(10)\n",
    "con3 = con1 + con2\n",
    "\n",
    "with tf.Session() as ses:\n",
    "    print(ses.run([con1, con2, con3]))\n"
   ]
  },
  {
   "cell_type": "code",
   "execution_count": 16,
   "id": "a4fe4c83-1723-46a4-b724-936b345a836f",
   "metadata": {},
   "outputs": [],
   "source": [
    "addition = tf.constant([1,2,3,4,5])+tf.constant([10,9,8,7,6])\n",
    "multiplication = tf.constant([1,2,3,4,5]) * tf.constant([10,9,8,7,6])"
   ]
  },
  {
   "cell_type": "code",
   "execution_count": 17,
   "id": "ba64a7cd-bffa-48b7-9e1c-dbeb166cbc18",
   "metadata": {},
   "outputs": [
    {
     "name": "stdout",
     "output_type": "stream",
     "text": [
      "[array([11, 11, 11, 11, 11], dtype=int32), array([10, 18, 24, 28, 30], dtype=int32)]\n"
     ]
    }
   ],
   "source": [
    "with tf.Session() as ses:\n",
    "    print(ses.run([addition,multiplication]))"
   ]
  },
  {
   "cell_type": "code",
   "execution_count": 19,
   "id": "bc1659f3-10d2-4c28-bb5d-50b7c7d990b4",
   "metadata": {},
   "outputs": [],
   "source": [
    "str1 = tf.constant(\"I love \")\n",
    "str2 = tf.constant(\"TenssorFlow\")"
   ]
  },
  {
   "cell_type": "code",
   "execution_count": 20,
   "id": "dcc4fad3-cfa9-4f52-93d2-c32a0b38be42",
   "metadata": {},
   "outputs": [
    {
     "name": "stdout",
     "output_type": "stream",
     "text": [
      "[b'I love TenssorFlow']\n"
     ]
    }
   ],
   "source": [
    "with tf.Session() as ses:\n",
    "    print(ses.run([str1 + str2]))"
   ]
  },
  {
   "cell_type": "code",
   "execution_count": 26,
   "id": "fca07bf0-a4c0-4d2a-b7cb-521f090576ea",
   "metadata": {},
   "outputs": [
    {
     "name": "stdout",
     "output_type": "stream",
     "text": [
      "10\n"
     ]
    }
   ],
   "source": [
    "#placeholder \n",
    "\n",
    "import tensorflow.compat.v1 as tf\n",
    "tf.disable_v2_behavior()\n",
    "\n",
    "x = tf.placeholder(tf.int32)\n",
    "y = x * 5\n",
    "\n",
    "with tf.Session() as sess:\n",
    "    result = sess.run(y, feed_dict={x: 2})  # ✅ Feed value to x\n",
    "    print(result)  # 15\n"
   ]
  },
  {
   "cell_type": "code",
   "execution_count": 27,
   "id": "28efa888-c329-46a3-8946-561c07071134",
   "metadata": {},
   "outputs": [
    {
     "name": "stdout",
     "output_type": "stream",
     "text": [
      "[10 20 30 40]\n"
     ]
    }
   ],
   "source": [
    "with tf.Session() as sess:\n",
    "    result = sess.run(y, feed_dict={x:[2,4,6,8]}) \n",
    "    print(result) "
   ]
  },
  {
   "cell_type": "code",
   "execution_count": 31,
   "id": "9a25a349-5fae-45a6-b537-893188dab139",
   "metadata": {},
   "outputs": [],
   "source": [
    "str_name = tf.placeholder(tf.string)\n",
    "my_name = \"I am \" + str_name"
   ]
  },
  {
   "cell_type": "code",
   "execution_count": 35,
   "id": "9dd1783e-69f6-4365-a3e2-d7934ce84bc8",
   "metadata": {},
   "outputs": [
    {
     "name": "stdout",
     "output_type": "stream",
     "text": [
      "[b'I am Sam' b'I am Bob' b'I am Charlie']\n"
     ]
    }
   ],
   "source": [
    "with tf.Session() as sess:\n",
    "    result = sess.run(my_name, feed_dict={str_name:['Sam','Bob','Charlie']})\n",
    "    print(result)"
   ]
  },
  {
   "cell_type": "code",
   "execution_count": 36,
   "id": "13973f49-8343-4a8c-8ee5-92d5ed2ef7ed",
   "metadata": {},
   "outputs": [],
   "source": [
    "#variable \n",
    "\n",
    "var1 = tf.Variable([20],tf.int32)"
   ]
  },
  {
   "cell_type": "code",
   "execution_count": 37,
   "id": "c871847f-0d01-4ff3-8ef9-9e1ec46497b1",
   "metadata": {},
   "outputs": [],
   "source": [
    "init = tf.global_variables_initializer()"
   ]
  },
  {
   "cell_type": "code",
   "execution_count": 38,
   "id": "11ec4739-37f0-4d5a-9f23-aaebaffb9537",
   "metadata": {},
   "outputs": [],
   "source": [
    "ses = tf.Session()"
   ]
  },
  {
   "cell_type": "code",
   "execution_count": 39,
   "id": "ec3e11c1-f54a-4240-b409-3d38a2f37191",
   "metadata": {},
   "outputs": [],
   "source": [
    "ses.run(init)"
   ]
  },
  {
   "cell_type": "code",
   "execution_count": 40,
   "id": "c0ab6c1d-7967-482a-ac90-3313534179d0",
   "metadata": {},
   "outputs": [
    {
     "data": {
      "text/plain": [
       "array([20], dtype=int32)"
      ]
     },
     "execution_count": 40,
     "metadata": {},
     "output_type": "execute_result"
    }
   ],
   "source": [
    "ses.run(var1)"
   ]
  },
  {
   "cell_type": "code",
   "execution_count": 42,
   "id": "01976e64-2abe-4d7d-b460-6eb380e4d55b",
   "metadata": {},
   "outputs": [],
   "source": [
    "update_var1 = tf.assign(var1,[25])"
   ]
  },
  {
   "cell_type": "code",
   "execution_count": 43,
   "id": "c98f0779-ed8c-4aaa-9a9b-2a30b9df16a0",
   "metadata": {},
   "outputs": [
    {
     "data": {
      "text/plain": [
       "array([25], dtype=int32)"
      ]
     },
     "execution_count": 43,
     "metadata": {},
     "output_type": "execute_result"
    }
   ],
   "source": [
    "ses.run(update_var1)"
   ]
  },
  {
   "cell_type": "code",
   "execution_count": 44,
   "id": "3ea1cea9-3173-4218-87cd-080031e639d2",
   "metadata": {},
   "outputs": [],
   "source": [
    "#linear model \n",
    "\n",
    "w = tf.Variable([10],tf.int32)\n",
    "b = tf.Variable([5],tf.int32)\n",
    "x = tf.placeholder(tf.int32)"
   ]
  },
  {
   "cell_type": "code",
   "execution_count": 45,
   "id": "9067c3e6-a172-46fb-aadb-5d150dc851c8",
   "metadata": {},
   "outputs": [],
   "source": [
    "linear_model = w*x + b"
   ]
  },
  {
   "cell_type": "code",
   "execution_count": 46,
   "id": "b3c88339-5a27-4444-bb29-4b8a64c79b73",
   "metadata": {},
   "outputs": [],
   "source": [
    "init1 = tf.global_variables_initializer()\n",
    "ses.run(init1)"
   ]
  },
  {
   "cell_type": "code",
   "execution_count": 47,
   "id": "084a23e5-e958-4cd8-ac85-f241c58d73aa",
   "metadata": {},
   "outputs": [
    {
     "data": {
      "text/plain": [
       "array([15, 25, 35, 45, 55], dtype=int32)"
      ]
     },
     "execution_count": 47,
     "metadata": {},
     "output_type": "execute_result"
    }
   ],
   "source": [
    "ses.run(linear_model,feed_dict={x:[1,2,3,4,5]})"
   ]
  },
  {
   "cell_type": "code",
   "execution_count": 52,
   "id": "b60361c6-ece0-4419-bc77-acf602644cd2",
   "metadata": {},
   "outputs": [],
   "source": [
    "import tensorflow as tf"
   ]
  },
  {
   "cell_type": "code",
   "execution_count": 60,
   "id": "d3110bf9-a58e-473b-8357-eaac4d7a58b1",
   "metadata": {},
   "outputs": [],
   "source": [
    "# Basics\n",
    "hello = tf.constant('Hello,Hridoy!')"
   ]
  },
  {
   "cell_type": "code",
   "execution_count": 61,
   "id": "25162b05-8954-4a63-a2cc-eb52198873c3",
   "metadata": {},
   "outputs": [
    {
     "data": {
      "text/plain": [
       "tensorflow.python.framework.ops.SymbolicTensor"
      ]
     },
     "execution_count": 61,
     "metadata": {},
     "output_type": "execute_result"
    }
   ],
   "source": [
    "type(hello)"
   ]
  },
  {
   "cell_type": "code",
   "execution_count": 62,
   "id": "8e5c4c80-7753-41bb-b236-a29ec9a2131c",
   "metadata": {},
   "outputs": [
    {
     "data": {
      "text/plain": [
       "<tf.Operation 'PrintV2_3' type=PrintV2>"
      ]
     },
     "execution_count": 62,
     "metadata": {},
     "output_type": "execute_result"
    }
   ],
   "source": [
    "tf.print(hello)"
   ]
  },
  {
   "cell_type": "code",
   "execution_count": 63,
   "id": "d735ff43-4e7a-4548-9738-063c58bb05ab",
   "metadata": {},
   "outputs": [],
   "source": [
    "import tensorflow as tf\n",
    "\n",
    "# Enable TensorFlow 1.x behavior\n",
    "tf.compat.v1.disable_eager_execution()\n",
    "\n",
    "# Define a tensor with random values\n",
    "random_tensor_var_one = tf.Variable(tf.random.uniform([2, 3, 4], minval=0, maxval=10, dtype=tf.int32))"
   ]
  },
  {
   "cell_type": "code",
   "execution_count": 64,
   "id": "47025d5e-89e4-4f4d-8cba-2982c41873a2",
   "metadata": {},
   "outputs": [],
   "source": [
    "# Create a session\n",
    "sess = tf.compat.v1.Session()\n",
    "\n",
    "# Initialize all variables\n",
    "sess.run(tf.compat.v1.global_variables_initializer())"
   ]
  },
  {
   "cell_type": "code",
   "execution_count": 65,
   "id": "eaf1609f-23bb-4e0c-aae8-88add9311a81",
   "metadata": {},
   "outputs": [
    {
     "name": "stdout",
     "output_type": "stream",
     "text": [
      "Tensor value: [[[3 4 6 5]\n",
      "  [9 8 4 3]\n",
      "  [7 5 3 2]]\n",
      "\n",
      " [[1 7 7 9]\n",
      "  [0 2 2 7]\n",
      "  [0 4 5 0]]]\n"
     ]
    }
   ],
   "source": [
    "# Run the session to get the value of the tensor\n",
    "tensor_value = sess.run(random_tensor_var_one)\n",
    "\n",
    "# Print the tensor value\n",
    "print(\"Tensor value:\", tensor_value)\n",
    "\n",
    "# Close the session\n",
    "sess.close()"
   ]
  },
  {
   "cell_type": "code",
   "execution_count": 66,
   "id": "32ad94fa-f1ea-4896-9677-77112e79098a",
   "metadata": {},
   "outputs": [
    {
     "name": "stdout",
     "output_type": "stream",
     "text": [
      "Tensor(\"Const_19:0\", shape=(2, 2), dtype=int32)\n"
     ]
    }
   ],
   "source": [
    "import tensorflow as tf\n",
    "\n",
    "# Create a tensor\n",
    "tensor = tf.constant([[1, 2], [3, 4]])\n",
    "print(tensor)"
   ]
  },
  {
   "cell_type": "code",
   "execution_count": 70,
   "id": "287758ab-b496-4b08-a30e-2302cdce7e8e",
   "metadata": {},
   "outputs": [],
   "source": [
    "#scalar value\n",
    "myarr = tf.fill((5,5),5)\n",
    "\n"
   ]
  },
  {
   "cell_type": "code",
   "execution_count": null,
   "id": "717cea6f-f87a-4f27-8c51-47f2c773b932",
   "metadata": {},
   "outputs": [],
   "source": []
  },
  {
   "cell_type": "code",
   "execution_count": null,
   "id": "93e3884c-0744-4a62-b92a-7a39e3a64743",
   "metadata": {},
   "outputs": [],
   "source": []
  }
 ],
 "metadata": {
  "kernelspec": {
   "display_name": "Python 3 (ipykernel)",
   "language": "python",
   "name": "python3"
  },
  "language_info": {
   "codemirror_mode": {
    "name": "ipython",
    "version": 3
   },
   "file_extension": ".py",
   "mimetype": "text/x-python",
   "name": "python",
   "nbconvert_exporter": "python",
   "pygments_lexer": "ipython3",
   "version": "3.12.1"
  }
 },
 "nbformat": 4,
 "nbformat_minor": 5
}
